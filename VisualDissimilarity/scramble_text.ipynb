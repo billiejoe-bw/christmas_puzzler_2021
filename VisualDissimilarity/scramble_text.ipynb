{
 "cells": [
  {
   "cell_type": "code",
   "execution_count": 1,
   "metadata": {},
   "outputs": [],
   "source": [
    "import random as ra\n",
    "import pandas as pd\n",
    "import string\n",
    "import hungarian_algorithm.algorithm as ha"
   ]
  },
  {
   "cell_type": "code",
   "execution_count": null,
   "metadata": {},
   "outputs": [],
   "source": []
  },
  {
   "cell_type": "markdown",
   "metadata": {},
   "source": [
    "**Import the table of visual similarities between lower-case letters.** For this step to work, you will need to download the file `13428_2012_271_MOESM1_ESM.xlsx` which is available in the \"Electronic supplementary material\" for the research paper\n",
    "[A letter visual-similarity matrix for Latin-based alphabets](https://link.springer.com/article/10.3758/s13428-012-0271-4).\n",
    "\n",
    "As described in the paper, two forms of letter 'a' are included in the table; we average the similarities for the two forms of 'a'."
   ]
  },
  {
   "cell_type": "code",
   "execution_count": 2,
   "metadata": {},
   "outputs": [],
   "source": [
    "def read_similarity_table():\n",
    "    \n",
    "    input_filename = \"13428_2012_271_MOESM1_ESM.xlsx\"\n",
    "    \n",
    "    df = pd.read_excel(input_filename, sheet_name=\"List-Lower\", usecols=\"C:E\")\n",
    "    df = df.loc[df['Letter1'].isin(list(string.ascii_lowercase))]\n",
    "    df = df.loc[df['Letter2'].isin(list(string.ascii_lowercase))]\n",
    "    df = df.loc[df['Letter1'] != df['Letter2']]\n",
    "\n",
    "    df = df.groupby(['Letter1', 'Letter2']).agg(similarity = ('Value', 'mean')).reset_index()    \n",
    "\n",
    "    df['Key'] = df.apply(lambda row: (row['Letter1'], row['Letter2']), axis='columns')\n",
    "\n",
    "    assert df.shape[0] == 26 * 25\n",
    "    \n",
    "    return df\n"
   ]
  },
  {
   "cell_type": "code",
   "execution_count": 3,
   "metadata": {},
   "outputs": [],
   "source": [
    "sim_df = read_similarity_table()"
   ]
  },
  {
   "cell_type": "code",
   "execution_count": null,
   "metadata": {},
   "outputs": [],
   "source": []
  },
  {
   "cell_type": "markdown",
   "metadata": {},
   "source": [
    "**Which letter pairs were judged the most similar? Which were judged the least similar?**"
   ]
  },
  {
   "cell_type": "code",
   "execution_count": 4,
   "metadata": {},
   "outputs": [
    {
     "data": {
      "text/html": [
       "<div>\n",
       "<style scoped>\n",
       "    .dataframe tbody tr th:only-of-type {\n",
       "        vertical-align: middle;\n",
       "    }\n",
       "\n",
       "    .dataframe tbody tr th {\n",
       "        vertical-align: top;\n",
       "    }\n",
       "\n",
       "    .dataframe thead th {\n",
       "        text-align: right;\n",
       "    }\n",
       "</style>\n",
       "<table border=\"1\" class=\"dataframe\">\n",
       "  <thead>\n",
       "    <tr style=\"text-align: right;\">\n",
       "      <th></th>\n",
       "      <th>Letter1</th>\n",
       "      <th>Letter2</th>\n",
       "      <th>similarity</th>\n",
       "      <th>Key</th>\n",
       "    </tr>\n",
       "  </thead>\n",
       "  <tbody>\n",
       "    <tr>\n",
       "      <th>210</th>\n",
       "      <td>i</td>\n",
       "      <td>l</td>\n",
       "      <td>6.133333</td>\n",
       "      <td>(i, l)</td>\n",
       "    </tr>\n",
       "    <tr>\n",
       "      <th>27</th>\n",
       "      <td>b</td>\n",
       "      <td>d</td>\n",
       "      <td>5.600000</td>\n",
       "      <td>(b, d)</td>\n",
       "    </tr>\n",
       "    <tr>\n",
       "      <th>390</th>\n",
       "      <td>p</td>\n",
       "      <td>q</td>\n",
       "      <td>5.566667</td>\n",
       "      <td>(p, q)</td>\n",
       "    </tr>\n",
       "    <tr>\n",
       "      <th>187</th>\n",
       "      <td>h</td>\n",
       "      <td>n</td>\n",
       "      <td>5.533333</td>\n",
       "      <td>(h, n)</td>\n",
       "    </tr>\n",
       "    <tr>\n",
       "      <th>548</th>\n",
       "      <td>v</td>\n",
       "      <td>y</td>\n",
       "      <td>5.333333</td>\n",
       "      <td>(v, y)</td>\n",
       "    </tr>\n",
       "  </tbody>\n",
       "</table>\n",
       "</div>"
      ],
      "text/plain": [
       "    Letter1 Letter2  similarity     Key\n",
       "210       i       l    6.133333  (i, l)\n",
       "27        b       d    5.600000  (b, d)\n",
       "390       p       q    5.566667  (p, q)\n",
       "187       h       n    5.533333  (h, n)\n",
       "548       v       y    5.333333  (v, y)"
      ]
     },
     "execution_count": 4,
     "metadata": {},
     "output_type": "execute_result"
    }
   ],
   "source": [
    "sim_df.loc[sim_df['Letter1'] < sim_df['Letter2']].sort_values('similarity', ascending=False).head(5)"
   ]
  },
  {
   "cell_type": "code",
   "execution_count": 5,
   "metadata": {},
   "outputs": [
    {
     "data": {
      "text/html": [
       "<div>\n",
       "<style scoped>\n",
       "    .dataframe tbody tr th:only-of-type {\n",
       "        vertical-align: middle;\n",
       "    }\n",
       "\n",
       "    .dataframe tbody tr th {\n",
       "        vertical-align: top;\n",
       "    }\n",
       "\n",
       "    .dataframe thead th {\n",
       "        text-align: right;\n",
       "    }\n",
       "</style>\n",
       "<table border=\"1\" class=\"dataframe\">\n",
       "  <thead>\n",
       "    <tr style=\"text-align: right;\">\n",
       "      <th></th>\n",
       "      <th>Letter1</th>\n",
       "      <th>Letter2</th>\n",
       "      <th>similarity</th>\n",
       "      <th>Key</th>\n",
       "    </tr>\n",
       "  </thead>\n",
       "  <tbody>\n",
       "    <tr>\n",
       "      <th>238</th>\n",
       "      <td>j</td>\n",
       "      <td>o</td>\n",
       "      <td>1.000000</td>\n",
       "      <td>(j, o)</td>\n",
       "    </tr>\n",
       "    <tr>\n",
       "      <th>496</th>\n",
       "      <td>t</td>\n",
       "      <td>w</td>\n",
       "      <td>1.000000</td>\n",
       "      <td>(t, w)</td>\n",
       "    </tr>\n",
       "    <tr>\n",
       "      <th>421</th>\n",
       "      <td>q</td>\n",
       "      <td>w</td>\n",
       "      <td>1.033333</td>\n",
       "      <td>(q, w)</td>\n",
       "    </tr>\n",
       "    <tr>\n",
       "      <th>446</th>\n",
       "      <td>r</td>\n",
       "      <td>w</td>\n",
       "      <td>1.033333</td>\n",
       "      <td>(r, w)</td>\n",
       "    </tr>\n",
       "    <tr>\n",
       "      <th>263</th>\n",
       "      <td>k</td>\n",
       "      <td>o</td>\n",
       "      <td>1.033333</td>\n",
       "      <td>(k, o)</td>\n",
       "    </tr>\n",
       "  </tbody>\n",
       "</table>\n",
       "</div>"
      ],
      "text/plain": [
       "    Letter1 Letter2  similarity     Key\n",
       "238       j       o    1.000000  (j, o)\n",
       "496       t       w    1.000000  (t, w)\n",
       "421       q       w    1.033333  (q, w)\n",
       "446       r       w    1.033333  (r, w)\n",
       "263       k       o    1.033333  (k, o)"
      ]
     },
     "execution_count": 5,
     "metadata": {},
     "output_type": "execute_result"
    }
   ],
   "source": [
    "sim_df.loc[sim_df['Letter1'] < sim_df['Letter2']].sort_values('similarity').head(5)"
   ]
  },
  {
   "cell_type": "code",
   "execution_count": 6,
   "metadata": {},
   "outputs": [],
   "source": [
    "sim_dict = sim_df.set_index('Key')['similarity'].to_dict()"
   ]
  },
  {
   "cell_type": "markdown",
   "metadata": {},
   "source": [
    "We decree that every letter is highly similar to itself."
   ]
  },
  {
   "cell_type": "code",
   "execution_count": 7,
   "metadata": {},
   "outputs": [],
   "source": [
    "self_similarity = sim_df['similarity'].max() + 1"
   ]
  },
  {
   "cell_type": "code",
   "execution_count": 8,
   "metadata": {},
   "outputs": [],
   "source": [
    "for letter in string.ascii_lowercase:\n",
    "    sim_dict[(letter, letter)] = self_similarity"
   ]
  },
  {
   "cell_type": "code",
   "execution_count": null,
   "metadata": {},
   "outputs": [],
   "source": []
  },
  {
   "cell_type": "markdown",
   "metadata": {},
   "source": [
    "**Function to measure the total similarity of a rearrangement of a word.**"
   ]
  },
  {
   "cell_type": "code",
   "execution_count": 9,
   "metadata": {},
   "outputs": [],
   "source": [
    "def rearr_similarity(word, rearr):\n",
    "    return sum([sim_dict[(x, y)] for x, y in zip(word, rearr)])"
   ]
  },
  {
   "cell_type": "code",
   "execution_count": 10,
   "metadata": {},
   "outputs": [
    {
     "data": {
      "text/plain": [
       "22.4"
      ]
     },
     "execution_count": 10,
     "metadata": {},
     "output_type": "execute_result"
    }
   ],
   "source": [
    "rearr_similarity(\"boat\", \"baot\")"
   ]
  },
  {
   "cell_type": "code",
   "execution_count": 11,
   "metadata": {},
   "outputs": [
    {
     "data": {
      "text/plain": [
       "11.399999999999999"
      ]
     },
     "execution_count": 11,
     "metadata": {},
     "output_type": "execute_result"
    }
   ],
   "source": [
    "rearr_similarity(\"boat\", \"taob\")"
   ]
  },
  {
   "cell_type": "code",
   "execution_count": 12,
   "metadata": {},
   "outputs": [
    {
     "data": {
      "text/plain": [
       "9.666666666666666"
      ]
     },
     "execution_count": 12,
     "metadata": {},
     "output_type": "execute_result"
    }
   ],
   "source": [
    "rearr_similarity(\"boat\", \"atob\")"
   ]
  },
  {
   "cell_type": "code",
   "execution_count": null,
   "metadata": {},
   "outputs": [],
   "source": []
  },
  {
   "cell_type": "markdown",
   "metadata": {},
   "source": [
    "**Function to build the dictionary representation of the assignment problem needed by `hungarian-algorithm` library.**"
   ]
  },
  {
   "cell_type": "code",
   "execution_count": 13,
   "metadata": {},
   "outputs": [],
   "source": [
    "def mk_assignment_problem(word):\n",
    "\n",
    "    def options_for_letter(letter):\n",
    "        return {'_%d' % i: sim_dict[(letter, word[i])] for i in range(len(word))}\n",
    "    \n",
    "    return {str(i): options_for_letter(word[i]) for i in range(len(word))}"
   ]
  },
  {
   "cell_type": "code",
   "execution_count": null,
   "metadata": {},
   "outputs": [],
   "source": []
  },
  {
   "cell_type": "markdown",
   "metadata": {},
   "source": [
    "**Function to build the assignment problem, solve it, and interpret the results into a rearranged word.**"
   ]
  },
  {
   "cell_type": "code",
   "execution_count": 14,
   "metadata": {},
   "outputs": [],
   "source": [
    "def rearrange_word(word):\n",
    "    matching = ha.find_matching(mk_assignment_problem(word), matching_type = 'min')\n",
    "\n",
    "    def recover_mapping(x):\n",
    "        src = int(x[0][0])\n",
    "        dst = int(x[0][1][1:])\n",
    "        return (src, dst)\n",
    "    \n",
    "    permutation = list(map(recover_mapping, matching))\n",
    "    permutation_dict = {src: dst for src, dst in permutation}\n",
    "    \n",
    "    return \"\".join([word[permutation_dict[i]] for i in range(len(word))])\n",
    "    \n",
    "    return permutation_dict"
   ]
  },
  {
   "cell_type": "code",
   "execution_count": null,
   "metadata": {},
   "outputs": [],
   "source": []
  },
  {
   "cell_type": "code",
   "execution_count": 15,
   "metadata": {},
   "outputs": [
    {
     "data": {
      "text/plain": [
       "'atbo'"
      ]
     },
     "execution_count": 15,
     "metadata": {},
     "output_type": "execute_result"
    }
   ],
   "source": [
    "rearrange_word(\"boat\")"
   ]
  },
  {
   "cell_type": "code",
   "execution_count": null,
   "metadata": {},
   "outputs": [],
   "source": []
  },
  {
   "cell_type": "code",
   "execution_count": null,
   "metadata": {},
   "outputs": [],
   "source": []
  }
 ],
 "metadata": {
  "kernelspec": {
   "display_name": "Python 3 (ipykernel)",
   "language": "python",
   "name": "python3"
  },
  "language_info": {
   "codemirror_mode": {
    "name": "ipython",
    "version": 3
   },
   "file_extension": ".py",
   "mimetype": "text/x-python",
   "name": "python",
   "nbconvert_exporter": "python",
   "pygments_lexer": "ipython3",
   "version": "3.9.7"
  }
 },
 "nbformat": 4,
 "nbformat_minor": 4
}
