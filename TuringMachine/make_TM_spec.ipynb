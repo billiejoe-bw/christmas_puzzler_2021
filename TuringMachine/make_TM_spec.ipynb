{
 "cells": [
  {
   "cell_type": "code",
   "execution_count": null,
   "id": "812b5605-6084-47dd-aebb-4927f81b53d5",
   "metadata": {},
   "outputs": [],
   "source": [
    "import string"
   ]
  },
  {
   "cell_type": "code",
   "execution_count": null,
   "id": "d211bbb5-74d8-4b2d-95be-69c49a1ff85b",
   "metadata": {},
   "outputs": [],
   "source": [
    "letters = string.ascii_lowercase"
   ]
  },
  {
   "cell_type": "markdown",
   "id": "783acfda-f591-40be-ae17-95181bed2ddb",
   "metadata": {},
   "source": [
    "A transition is represented as a dictionary with these keys:\n",
    "- `curr_state`\n",
    "- `curr_val1`\n",
    "- `curr_val2`\n",
    "- `next_state`\n",
    "- `next_val1`\n",
    "- `next_val2`\n",
    "- `head1move`\n",
    "- `head2move`"
   ]
  },
  {
   "cell_type": "markdown",
   "id": "1b998095-ef84-4004-904e-e39db5862d16",
   "metadata": {},
   "source": [
    "Function for printing a transition in the format needed by [turingmachinesimulator.com](https://turingmachinesimulator.com/):"
   ]
  },
  {
   "cell_type": "code",
   "execution_count": null,
   "id": "d56cb3f8-0f11-4977-b575-db5b77c99e3e",
   "metadata": {},
   "outputs": [],
   "source": [
    "def pp_transition(trans):\n",
    "\n",
    "    return (\n",
    "        \"%s,%s,%s\\n%s,%s,%s,%s,%s\\n\\n\"\n",
    "        % (\n",
    "            trans['curr_state'],\n",
    "            trans['curr_val1'],\n",
    "            trans['curr_val2'],\n",
    "            trans['next_state'],\n",
    "            trans['next_val1'],\n",
    "            trans['next_val2'],\n",
    "            trans['head1move'],\n",
    "            trans['head2move']\n",
    "        )\n",
    "    )"
   ]
  },
  {
   "cell_type": "markdown",
   "id": "c567ac1b-1689-4bba-9b2c-82281310e7a6",
   "metadata": {},
   "source": [
    "Convenience function; another way of making transitions."
   ]
  },
  {
   "cell_type": "code",
   "execution_count": null,
   "id": "38e62c36-17a7-46a0-83b6-171142e0fc78",
   "metadata": {},
   "outputs": [],
   "source": [
    "def mk_trans(curr_state, curr_val1, curr_val2, next_state, next_val1, next_val2, head1move, head2move):\n",
    "    return {\n",
    "        'curr_state': curr_state,\n",
    "        'curr_val1': curr_val1,\n",
    "        'curr_val2': curr_val2,\n",
    "        'next_state': next_state,\n",
    "        'next_val1': next_val1,\n",
    "        'next_val2': next_val2,\n",
    "        'head1move': head1move,\n",
    "        'head2move': head2move\n",
    "    }"
   ]
  },
  {
   "cell_type": "code",
   "execution_count": null,
   "id": "33e7cd74-4c27-4841-82e6-a2acdaf6828c",
   "metadata": {},
   "outputs": [],
   "source": []
  },
  {
   "cell_type": "markdown",
   "id": "8726e4e0-3baa-4b6a-a697-6de767cd46d0",
   "metadata": {},
   "source": [
    "**We build up the Turing Machine spec as a list of transitions.**"
   ]
  },
  {
   "cell_type": "code",
   "execution_count": null,
   "id": "5539be85-e543-4b49-b9ee-d505022b605b",
   "metadata": {},
   "outputs": [],
   "source": [
    "prog = []"
   ]
  },
  {
   "cell_type": "markdown",
   "id": "a2b66ad2-c320-41b9-88bf-b3b7a9f85e92",
   "metadata": {},
   "source": [
    "**State q0:** Working forwards through a word cutting out letters; at an odd position"
   ]
  },
  {
   "cell_type": "code",
   "execution_count": null,
   "id": "ffac6f90-a71f-4353-a812-40de63c6fa37",
   "metadata": {},
   "outputs": [],
   "source": [
    "# If you see a letter, copy it to tape 2, replace with special marker \"/\"\n",
    "\n",
    "for x in letters:\n",
    "    prog.append({\n",
    "        'curr_state': \"q0\",\n",
    "        'curr_val1': x,\n",
    "        'curr_val2': \"_\",\n",
    "        'next_state': \"q1\",\n",
    "        'next_val1': \"/\",\n",
    "        'next_val2': x,\n",
    "        'head1move': \">\",\n",
    "        'head2move': \"<\"\n",
    "    })"
   ]
  },
  {
   "cell_type": "markdown",
   "id": "787afc11-c769-424f-8612-3bde1a9365db",
   "metadata": {},
   "source": [
    "**State q1:** Working forwards through a word cutting out letters, at an even position"
   ]
  },
  {
   "cell_type": "code",
   "execution_count": null,
   "id": "15dab160-9f5e-46f4-aab4-148291e7409b",
   "metadata": {},
   "outputs": [],
   "source": [
    "# Leave letters alone, just jog on\n",
    "\n",
    "for x in letters:\n",
    "    prog.append({\n",
    "        'curr_state': \"q1\",\n",
    "        'curr_val1': x,\n",
    "        'curr_val2': \"_\",\n",
    "        'next_state': \"q0\",\n",
    "        'next_val1': x,\n",
    "        'next_val2': \"/\",\n",
    "        'head1move': \">\",\n",
    "        'head2move': \"<\"\n",
    "    })"
   ]
  },
  {
   "cell_type": "markdown",
   "id": "bc11ac95-1da0-4f34-9d94-a5f048ac0c30",
   "metadata": {
    "jp-MarkdownHeadingCollapsed": true,
    "tags": []
   },
   "source": [
    "Recognising the end of the word in q0 and q1:"
   ]
  },
  {
   "cell_type": "code",
   "execution_count": null,
   "id": "32f4ad64-067c-4d37-8c93-4cc9b707d908",
   "metadata": {},
   "outputs": [],
   "source": [
    "# If you reach a space or the end-of-sentence fullstop while in q0 or q1, then move on to q2.\n",
    "# Move tape 1 head left so we're back into the word.\n",
    "# Leave tape head 2 pointing to its space.\n",
    "\n",
    "prog.append(mk_trans(\"q0\", \"_\", \"_\",\n",
    "                     \"q2\", \"_\", \"_\", \"<\", \"-\"))\n",
    "\n",
    "prog.append(mk_trans(\"q1\", \"_\" ,\"_\",\n",
    "                     \"q2\", \"_\" ,\"_\", \"<\" ,\"-\"))\n",
    "\n",
    "prog.append(mk_trans(\"q0\", \".\", \"_\",\n",
    "                     \"q2\", \".\", \"_\", \"<\" , \"-\"))\n",
    "\n",
    "prog.append(mk_trans(\"q1\", \".\", \"_\",\n",
    "                     \"q2\", \".\", \"_\", \"<\", \"-\"))\n"
   ]
  },
  {
   "cell_type": "markdown",
   "id": "e8e4a196-b9fe-40c9-92b8-53a4f8ca7df1",
   "metadata": {},
   "source": [
    "**State q2:** Run tape 1 head left to get back to the start of the word."
   ]
  },
  {
   "cell_type": "code",
   "execution_count": null,
   "id": "4055a1f0-b748-4189-9c54-418b927833e1",
   "metadata": {},
   "outputs": [],
   "source": [
    "# If you see a letter, keep going left.\n",
    "\n",
    "for x in letters:\n",
    "    prog.append({\n",
    "        'curr_state': \"q2\",\n",
    "        'curr_val1': x,\n",
    "        'curr_val2': \"_\",\n",
    "        'next_state': \"q2\",\n",
    "        'next_val1': x,\n",
    "        'next_val2': \"_\",\n",
    "        'head1move': \"<\",\n",
    "        'head2move': \"-\"\n",
    "    })\n",
    "\n",
    "# If you see the / symbol, keep going left.\n",
    "\n",
    "for x in letters:\n",
    "    prog.append({\n",
    "        'curr_state': \"q2\",\n",
    "        'curr_val1': \"/\",\n",
    "        'curr_val2': \"_\",\n",
    "        'next_state': \"q2\",\n",
    "        'next_val1': \"/\",\n",
    "        'next_val2': \"_\",\n",
    "        'head1move': \"<\",\n",
    "        'head2move': \"-\"\n",
    "    })\n",
    "\n",
    "# If you read a space, move onto q3.\n",
    "# Shift tape 1 head right, back into the word.\n",
    "# Also shift tape 2 head right, back into the stored letters.\n",
    "\n",
    "for x in letters:\n",
    "    prog.append({\n",
    "        'curr_state': \"q2\",\n",
    "        'curr_val1': \"_\",\n",
    "        'curr_val2': \"_\",\n",
    "        'next_state': \"q3\",\n",
    "        'next_val1': \"_\",\n",
    "        'next_val2': \"_\",\n",
    "        'head1move': \">\",\n",
    "        'head2move': \">\"\n",
    "    })\n"
   ]
  },
  {
   "cell_type": "markdown",
   "id": "6f34cc25-fea6-408d-bbea-4eebcf37e46a",
   "metadata": {},
   "source": [
    "**State q3:** We're running forward through the word, putting the stored letters back (in a different order)."
   ]
  },
  {
   "cell_type": "code",
   "execution_count": null,
   "id": "c86df94f-f8d0-4698-b9e9-56d1db0f6731",
   "metadata": {},
   "outputs": [],
   "source": [
    "# If we're pointing to a letter that is being left undisturbed\n",
    "\n",
    "for x in letters:\n",
    "    prog.append({\n",
    "        'curr_state': \"q3\",\n",
    "        'curr_val1': x,\n",
    "        'curr_val2': \"/\",\n",
    "        'next_state': \"q3\",\n",
    "        'next_val1': x,\n",
    "        'next_val2': \"_\",\n",
    "        'head1move': \">\",\n",
    "        'head2move': \">\"\n",
    "    })\n",
    "\n",
    "# If we're pointing to a \"/\" where we have to put back a letter.\n",
    "\n",
    "for x in letters:\n",
    "    prog.append({\n",
    "        'curr_state': \"q3\",\n",
    "        'curr_val1': \"/\",\n",
    "        'curr_val2': x,\n",
    "        'next_state': \"q3\",\n",
    "        'next_val1': x,\n",
    "        'next_val2': \"_\",\n",
    "        'head1move': \">\",\n",
    "        'head2move': \">\"\n",
    "    })\n",
    "\n",
    "# If we're pointing at a \"/\" on both heads. This will happen at the start of even-length words.\n",
    "\n",
    "prog.append({\n",
    "    'curr_state': \"q3\",\n",
    "    'curr_val1': \"/\",\n",
    "    'curr_val2': \"/\",\n",
    "    'next_state': \"q3\",\n",
    "    'next_val1': \"/\",\n",
    "    'next_val2': \"_\",\n",
    "    'head1move': \"-\",\n",
    "    'head2move': \">\"\n",
    "})\n",
    "\n",
    "# If we're pointing to a letter on tape 1 but a space on tape 2. This will happen at the end of even-length words.\n",
    "\n",
    "for x in letters:\n",
    "    prog.append({\n",
    "        'curr_state': \"q3\",\n",
    "        'curr_val1': x,\n",
    "        'curr_val2': \"_\",\n",
    "        'next_state': \"q3\",\n",
    "        'next_val1': x,\n",
    "        'next_val2': \"_\",\n",
    "        'head1move': \">\",\n",
    "        'head2move': \"-\"\n",
    "    })\n",
    "    \n",
    "# If we're pointing at a space on both heads then skip forward and go to q0 to start on the next word.\n",
    "\n",
    "prog.append({\n",
    "    'curr_state': \"q3\",\n",
    "    'curr_val1': \"_\",\n",
    "    'curr_val2': \"_\",\n",
    "    'next_state': \"q0\",\n",
    "    'next_val1': \"_\",\n",
    "    'next_val2': \"_\",\n",
    "    'head1move': \">\",\n",
    "    'head2move': \"-\"\n",
    "})\n",
    "\n",
    "# If we're pointing at a fullstop then we're done!\n",
    "\n",
    "prog.append({\n",
    "    'curr_state': \"q3\",\n",
    "    'curr_val1': \".\",\n",
    "    'curr_val2': \"_\",\n",
    "    'next_state': \"qdone\",\n",
    "    'next_val1': \".\",\n",
    "    'next_val2': \"_\",\n",
    "    'head1move': \"-\",\n",
    "    'head2move': \"-\"\n",
    "})\n"
   ]
  },
  {
   "cell_type": "code",
   "execution_count": null,
   "id": "5aa6e442-9da1-4d25-a464-373f8169bf35",
   "metadata": {},
   "outputs": [],
   "source": []
  },
  {
   "cell_type": "code",
   "execution_count": null,
   "id": "f9c6023f-6727-457b-a08b-24b08fe318ad",
   "metadata": {},
   "outputs": [],
   "source": []
  },
  {
   "cell_type": "markdown",
   "id": "3183f4ba-817b-44f3-a0a2-55dc65c988a8",
   "metadata": {},
   "source": [
    "**Now print the program in the required syntax for the simulator.**"
   ]
  },
  {
   "cell_type": "code",
   "execution_count": null,
   "id": "55949863-6cb2-4a8f-93e1-6c6e7877512d",
   "metadata": {},
   "outputs": [],
   "source": [
    "s = \"\"\"\n",
    "name: Brandwatch Holiday Puzzler\n",
    "init: q0\n",
    "accept: qdone\n",
    "\n",
    "\"\"\""
   ]
  },
  {
   "cell_type": "code",
   "execution_count": null,
   "id": "8a9ccaf5-7edf-4ffc-a886-713491de37a3",
   "metadata": {},
   "outputs": [],
   "source": [
    "for transition in prog:\n",
    "    s = s + pp_transition(transition)"
   ]
  },
  {
   "cell_type": "code",
   "execution_count": null,
   "id": "60e287ab-de7e-469a-835d-06595f339f48",
   "metadata": {},
   "outputs": [],
   "source": []
  },
  {
   "cell_type": "code",
   "execution_count": null,
   "id": "059c2896-935a-4307-8aec-3d77c26a0c36",
   "metadata": {},
   "outputs": [],
   "source": [
    "print(s)"
   ]
  },
  {
   "cell_type": "code",
   "execution_count": null,
   "id": "d1b32717-3ee0-4b2f-8b33-3a5e1455089d",
   "metadata": {},
   "outputs": [],
   "source": []
  },
  {
   "cell_type": "code",
   "execution_count": null,
   "id": "84e12bd8-c53a-491d-aff1-d9d13d6d30af",
   "metadata": {},
   "outputs": [],
   "source": []
  }
 ],
 "metadata": {
  "kernelspec": {
   "display_name": "Python 3 (ipykernel)",
   "language": "python",
   "name": "python3"
  },
  "language_info": {
   "codemirror_mode": {
    "name": "ipython",
    "version": 3
   },
   "file_extension": ".py",
   "mimetype": "text/x-python",
   "name": "python",
   "nbconvert_exporter": "python",
   "pygments_lexer": "ipython3",
   "version": "3.9.7"
  }
 },
 "nbformat": 4,
 "nbformat_minor": 5
}
